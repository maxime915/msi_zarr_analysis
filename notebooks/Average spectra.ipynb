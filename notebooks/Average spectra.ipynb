{
 "cells": [
  {
   "cell_type": "code",
   "execution_count": 1,
   "id": "abcc8a25",
   "metadata": {},
   "outputs": [],
   "source": [
    "import numpy as np\n",
    "import zarr\n",
    "from scipy import interpolate\n",
    "from msi_zarr_analysis.utils import iter_chunks\n",
    "import matplotlib.pyplot as plt\n",
    "import time"
   ]
  },
  {
   "cell_type": "code",
   "execution_count": 2,
   "id": "a8be9c1f",
   "metadata": {},
   "outputs": [],
   "source": [
    "region13 = zarr.open_group(\"../datasets/comulis13.zarr/\", mode='r')"
   ]
  },
  {
   "cell_type": "code",
   "execution_count": 3,
   "id": "8ae91905",
   "metadata": {},
   "outputs": [],
   "source": [
    "def interpolate_spectrum(s_mzs: np.ndarray, s_int: np.ndarray, new_mzs_axis: np.ndarray) -> np.ndarray:\n",
    "    interpolate_fn = interpolate.interp1d(\n",
    "        s_mzs,\n",
    "        s_int,\n",
    "        kind=\"linear\",\n",
    "        copy=False,  # s_mzs and s_int are only used once\n",
    "        bounds_error=False, # the new axis goes further\n",
    "        fill_value=0,  # --> use a 0 fill to indicate the absence of data\n",
    "        assume_sorted=True,  # both are sorted\n",
    "    )\n",
    "    return interpolate_fn(new_mzs_axis)"
   ]
  },
  {
   "cell_type": "code",
   "execution_count": 4,
   "id": "f486472e",
   "metadata": {},
   "outputs": [],
   "source": [
    "def sum_spectra_chunk(\n",
    "    c_len: np.ndarray,\n",
    "    c_mzs: np.ndarray,\n",
    "    c_int: np.ndarray,\n",
    "    new_mzs_axis: np.ndarray,\n",
    "):\n",
    "\n",
    "    average = np.zeros(shape=new_mzs_axis.shape, dtype=c_int.dtype)\n",
    "    number = 0\n",
    "    \n",
    "    for y, x in zip(*np.nonzero(c_len)):\n",
    "        s_len = c_len[y, x]\n",
    "        s_mzs = c_mzs[:s_len, y, x]\n",
    "        s_int = c_int[:s_len, y, x]\n",
    "        \n",
    "        i_int = interpolate_spectrum(s_mzs, s_int, new_mzs_axis)\n",
    "\n",
    "        average += i_int\n",
    "        number += 1\n",
    "\n",
    "    return average, number"
   ]
  },
  {
   "cell_type": "code",
   "execution_count": 5,
   "id": "dabd9747",
   "metadata": {},
   "outputs": [],
   "source": [
    "def average_spectra_zarr(\n",
    "    dataset: zarr.Group,\n",
    "    new_mzs_axis: np.ndarray,\n",
    ") -> np.ndarray:\n",
    "    start = time.time()\n",
    "    \n",
    "    z_int = dataset[\"/0\"]\n",
    "    z_mzs = dataset[\"/labels/mzs/0\"]\n",
    "    z_len = dataset[\"/labels/lengths/0\"]\n",
    "\n",
    "    average = np.zeros(shape=new_mzs_axis.shape, dtype=z_int.dtype)\n",
    "    number = 0\n",
    "    \n",
    "    for cy, cx in iter_chunks.iter_loaded_chunks(z_int, skip=2):\n",
    "        print(f\"{cy=} {cx=}\")\n",
    "        c_len = z_len[0, 0, cy, cx]\n",
    "        c_len_max = c_len.max()\n",
    "        c_mzs = z_mzs[:c_len_max, 0, cy, cx]\n",
    "        c_int = z_int[:c_len_max, 0, cy, cx]\n",
    "        \n",
    "        c_average, c_number = sum_spectra_chunk(c_len, c_mzs, c_int, new_mzs_axis)\n",
    "        \n",
    "        average += c_average\n",
    "        number += c_number\n",
    "    \n",
    "    average /= number\n",
    "    \n",
    "    duration = time.time() - start\n",
    "    print(f\"{duration=}\")\n",
    "    \n",
    "    return average"
   ]
  },
  {
   "cell_type": "code",
   "execution_count": 6,
   "id": "977737ee",
   "metadata": {},
   "outputs": [],
   "source": [
    "new_mzs_axis = np.linspace(100, 1150, num=int(1e7))"
   ]
  },
  {
   "cell_type": "code",
   "execution_count": 7,
   "id": "d5ace532",
   "metadata": {},
   "outputs": [
    {
     "name": "stdout",
     "output_type": "stream",
     "text": [
      "cy=slice(588, 609, None) cx=slice(528, 552, None)\n",
      "cy=slice(609, 630, None) cx=slice(384, 408, None)\n",
      "cy=slice(609, 630, None) cx=slice(408, 432, None)\n",
      "cy=slice(609, 630, None) cx=slice(432, 456, None)\n",
      "cy=slice(609, 630, None) cx=slice(456, 480, None)\n",
      "cy=slice(609, 630, None) cx=slice(480, 504, None)\n",
      "cy=slice(609, 630, None) cx=slice(504, 528, None)\n",
      "cy=slice(609, 630, None) cx=slice(528, 552, None)\n",
      "cy=slice(609, 630, None) cx=slice(552, 576, None)\n",
      "cy=slice(609, 630, None) cx=slice(576, 600, None)\n",
      "cy=slice(609, 630, None) cx=slice(600, 624, None)\n",
      "cy=slice(609, 630, None) cx=slice(624, 648, None)\n",
      "cy=slice(609, 630, None) cx=slice(648, 672, None)\n",
      "cy=slice(609, 630, None) cx=slice(744, 758, None)\n",
      "cy=slice(630, 644, None) cx=slice(384, 408, None)\n",
      "cy=slice(630, 644, None) cx=slice(408, 432, None)\n",
      "cy=slice(630, 644, None) cx=slice(432, 456, None)\n",
      "cy=slice(630, 644, None) cx=slice(456, 480, None)\n",
      "cy=slice(630, 644, None) cx=slice(480, 504, None)\n",
      "cy=slice(630, 644, None) cx=slice(504, 528, None)\n",
      "cy=slice(630, 644, None) cx=slice(528, 552, None)\n",
      "cy=slice(630, 644, None) cx=slice(552, 576, None)\n",
      "cy=slice(630, 644, None) cx=slice(576, 600, None)\n",
      "cy=slice(630, 644, None) cx=slice(600, 624, None)\n",
      "cy=slice(630, 644, None) cx=slice(624, 648, None)\n",
      "cy=slice(630, 644, None) cx=slice(648, 672, None)\n",
      "duration=458.7807250022888\n"
     ]
    }
   ],
   "source": [
    "avg_spectra = average_spectra_zarr(region13, new_mzs_axis)"
   ]
  },
  {
   "cell_type": "code",
   "execution_count": 49,
   "id": "06d88d52",
   "metadata": {},
   "outputs": [
    {
     "data": {
      "text/plain": [
       "(10000000, 9933334)"
      ]
     },
     "execution_count": 49,
     "metadata": {},
     "output_type": "execute_result"
    }
   ],
   "source": [
    "avg_spectra.size, np.count_nonzero(avg_spectra)"
   ]
  },
  {
   "cell_type": "code",
   "execution_count": 55,
   "id": "135276f1",
   "metadata": {},
   "outputs": [],
   "source": [
    "mask = avg_spectra > 5e6"
   ]
  },
  {
   "cell_type": "code",
   "execution_count": 56,
   "id": "be73368d",
   "metadata": {},
   "outputs": [
    {
     "data": {
      "text/plain": [
       "145"
      ]
     },
     "execution_count": 56,
     "metadata": {},
     "output_type": "execute_result"
    }
   ],
   "source": [
    "np.count_nonzero(mask)"
   ]
  },
  {
   "cell_type": "code",
   "execution_count": 57,
   "id": "99cf411b",
   "metadata": {},
   "outputs": [
    {
     "data": {
      "text/plain": [
       "[<matplotlib.lines.Line2D at 0x7fe91f60f310>]"
      ]
     },
     "execution_count": 57,
     "metadata": {},
     "output_type": "execute_result"
    },
    {
     "data": {
      "image/png": "[encoded data removed]",
      "text/plain": [
       "<Figure size 432x288 with 1 Axes>"
      ]
     },
     "metadata": {
      "needs_background": "light"
     },
     "output_type": "display_data"
    }
   ],
   "source": [
    "plt.plot(new_mzs_axis[mask], avg_spectra[mask])"
   ]
  },
  {
   "cell_type": "code",
   "execution_count": 59,
   "id": "82ac7715",
   "metadata": {},
   "outputs": [
    {
     "data": {
      "text/plain": [
       "(317.175, 317.178)"
      ]
     },
     "execution_count": 59,
     "metadata": {},
     "output_type": "execute_result"
    },
    {
     "data": {
      "image/png": "[encoded data removed]",
      "text/plain": [
       "<Figure size 432x288 with 1 Axes>"
      ]
     },
     "metadata": {
      "needs_background": "light"
     },
     "output_type": "display_data"
    }
   ],
   "source": [
    "plt.plot(new_mzs_axis[mask], avg_spectra[mask])\n",
    "plt.xlim(317.175, 317.178)"
   ]
  },
  {
   "cell_type": "code",
   "execution_count": 10,
   "id": "a7d5517f",
   "metadata": {},
   "outputs": [],
   "source": [
    "np.savez(\"save_avg_spectra.npz\", avg_mzs=new_mzs_axis, avg_int=avg_spectra)"
   ]
  }
 ],
 "metadata": {
  "kernelspec": {
   "display_name": "Python 3 (ipykernel)",
   "language": "python",
   "name": "python3"
  },
  "language_info": {
   "codemirror_mode": {
    "name": "ipython",
    "version": 3
   },
   "file_extension": ".py",
   "mimetype": "text/x-python",
   "name": "python",
   "nbconvert_exporter": "python",
   "pygments_lexer": "ipython3",
   "version": "3.9.-1"
  }
 },
 "nbformat": 4,
 "nbformat_minor": 5
}
