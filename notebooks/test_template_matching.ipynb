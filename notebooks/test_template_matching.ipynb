{
 "cells": [
  {
   "cell_type": "code",
   "execution_count": 1,
   "metadata": {},
   "outputs": [],
   "source": [
    "%load_ext autoreload"
   ]
  },
  {
   "cell_type": "code",
   "execution_count": 2,
   "metadata": {},
   "outputs": [],
   "source": [
    "%autoreload"
   ]
  },
  {
   "cell_type": "code",
   "execution_count": 3,
   "metadata": {},
   "outputs": [],
   "source": [
    "from typing import Tuple\n",
    "\n",
    "import cv2\n",
    "import numpy as np\n",
    "import matplotlib.pyplot as plt\n",
    "import rasterio.features\n",
    "\n",
    "from shapely.geometry import Polygon\n",
    "from shapely.affinity import affine_transform\n",
    "\n",
    "from msi_zarr_analysis.ml.dataset.translate_annotation import (\n",
    "    TemplateTransform,\n",
    "    MatchingResult,\n",
    "    translate_geometry,\n",
    "    match_template_multiscale,\n",
    ")"
   ]
  },
  {
   "cell_type": "code",
   "execution_count": 4,
   "metadata": {},
   "outputs": [],
   "source": [
    "def auto_crop(img_rgb) -> Tuple[slice, slice]:\n",
    "    y, x = img_rgb.any(axis=2).nonzero()\n",
    "    y_slice = slice(0, img_rgb.shape[0])\n",
    "    x_slice = slice(0, img_rgb.shape[1])\n",
    "    try:\n",
    "        y_slice = slice(y.min(), y.max()+1)\n",
    "    except ValueError:\n",
    "        pass\n",
    "    try:\n",
    "        x_slice = slice(x.min(), x.max()+1)\n",
    "    except ValueError:\n",
    "        pass\n",
    "    return y_slice, x_slice"
   ]
  },
  {
   "cell_type": "code",
   "execution_count": 5,
   "metadata": {},
   "outputs": [],
   "source": [
    "# create an empty image\n",
    "template_ = np.zeros((300, 600, 3), dtype=np.uint8)"
   ]
  },
  {
   "cell_type": "code",
   "execution_count": 6,
   "metadata": {},
   "outputs": [
    {
     "data": {
      "text/plain": [
       "<matplotlib.image.AxesImage at 0x7f85c10911c0>"
      ]
     },
     "execution_count": 6,
     "metadata": {},
     "output_type": "execute_result"
    },
    {
     "data": {
      "image/png": "[encoded data removed]",
      "text/plain": [
       "<Figure size 432x288 with 1 Axes>"
      ]
     },
     "metadata": {
      "needs_background": "light"
     },
     "output_type": "display_data"
    }
   ],
   "source": [
    "font = cv2.FONT_HERSHEY_SIMPLEX\n",
    "cv2.putText(template_,'LisK', (50, 150), font, 4, (0,255,0), 2, cv2.LINE_AA)\n",
    "\n",
    "plt.imshow(template_)"
   ]
  },
  {
   "cell_type": "code",
   "execution_count": 7,
   "metadata": {},
   "outputs": [],
   "source": [
    "y, x = 83, 157 # these must be ints, lower than 500\n",
    "scale = 3.85709 # this must be a float, > 0.0\n",
    "template_transform = TemplateTransform(rotate_90=1, flip_lr=True, flip_ud=False)\n",
    "crop_idx = auto_crop(template_)\n",
    "template = template_[crop_idx]"
   ]
  },
  {
   "cell_type": "code",
   "execution_count": 8,
   "metadata": {},
   "outputs": [],
   "source": [
    "transformed_template = template_transform.transform_template(template)"
   ]
  },
  {
   "cell_type": "code",
   "execution_count": 9,
   "metadata": {},
   "outputs": [
    {
     "data": {
      "text/plain": [
       "<matplotlib.image.AxesImage at 0x7f85c0f87970>"
      ]
     },
     "execution_count": 9,
     "metadata": {},
     "output_type": "execute_result"
    },
    {
     "data": {
      "image/png": "[encoded data removed]",
      "text/plain": [
       "<Figure size 432x288 with 1 Axes>"
      ]
     },
     "metadata": {
      "needs_background": "light"
     },
     "output_type": "display_data"
    }
   ],
   "source": [
    "plt.imshow(transformed_template)"
   ]
  },
  {
   "cell_type": "code",
   "execution_count": 10,
   "metadata": {},
   "outputs": [
    {
     "data": {
      "text/plain": [
       "(883, 355, 3)"
      ]
     },
     "execution_count": 10,
     "metadata": {},
     "output_type": "execute_result"
    }
   ],
   "source": [
    "resized = cv2.resize(\n",
    "    transformed_template,\n",
    "    dsize=None,\n",
    "    fx=scale,\n",
    "    fy=scale,\n",
    "    interpolation=cv2.INTER_NEAREST\n",
    ")\n",
    "resized.shape"
   ]
  },
  {
   "cell_type": "code",
   "execution_count": 11,
   "metadata": {
    "scrolled": true
   },
   "outputs": [
    {
     "data": {
      "text/plain": [
       "(1383, 855, 3)"
      ]
     },
     "execution_count": 11,
     "metadata": {},
     "output_type": "execute_result"
    }
   ],
   "source": [
    "# now put the transformed template in an image\n",
    "image = np.zeros((\n",
    "    resized.shape[0] + 500,\n",
    "    resized.shape[1] + 500,\n",
    "    3,\n",
    "), dtype=np.uint8)\n",
    "image.shape"
   ]
  },
  {
   "cell_type": "code",
   "execution_count": 12,
   "metadata": {},
   "outputs": [],
   "source": [
    "y_slice = slice(y, y + resized.shape[0])\n",
    "x_slice = slice(x, x + resized.shape[1])\n",
    "image[y_slice, x_slice, :] = resized"
   ]
  },
  {
   "cell_type": "code",
   "execution_count": 13,
   "metadata": {},
   "outputs": [
    {
     "data": {
      "text/plain": [
       "<matplotlib.image.AxesImage at 0x7f85bf389970>"
      ]
     },
     "execution_count": 13,
     "metadata": {},
     "output_type": "execute_result"
    },
    {
     "data": {
      "image/png": "[encoded data removed]",
      "text/plain": [
       "<Figure size 432x288 with 1 Axes>"
      ]
     },
     "metadata": {
      "needs_background": "light"
     },
     "output_type": "display_data"
    }
   ],
   "source": [
    "plt.imshow(image)"
   ]
  },
  {
   "cell_type": "code",
   "execution_count": 14,
   "metadata": {},
   "outputs": [],
   "source": [
    "# perform template matching\n",
    "matching_result = MatchingResult(scale=scale, y_top_left=y, x_top_left=x, y_slice=y_slice, x_slice=x_slice)\n",
    "#print(f\"{scale=} {y=} {x=} {y_slice=} {x_slice=}\")\n",
    "#matching_result = match_template_multiscale(image, transformed_template)\n",
    "#matching_result"
   ]
  },
  {
   "cell_type": "code",
   "execution_count": 15,
   "metadata": {},
   "outputs": [],
   "source": [
    "# now create the annotation : an L on the image above\n",
    "image_geometry = Polygon([[175, 120], [175, 1000], [350, 1000], [350, 900], [250, 900], [250, 120]])\n",
    "mask = rasterio.features.rasterize(\n",
    "    [image_geometry], out_shape=image.shape[:2]\n",
    ")"
   ]
  },
  {
   "cell_type": "code",
   "execution_count": 16,
   "metadata": {},
   "outputs": [
    {
     "data": {
      "text/plain": [
       "<matplotlib.image.AxesImage at 0x7f85bf01cc70>"
      ]
     },
     "execution_count": 16,
     "metadata": {},
     "output_type": "execute_result"
    },
    {
     "data": {
      "image/png": "[encoded data removed]",
      "text/plain": [
       "<Figure size 432x288 with 1 Axes>"
      ]
     },
     "metadata": {
      "needs_background": "light"
     },
     "output_type": "display_data"
    }
   ],
   "source": [
    "copy = image.copy()\n",
    "copy[mask>0, 0] = 255\n",
    "plt.imshow(copy)"
   ]
  },
  {
   "cell_type": "code",
   "execution_count": 17,
   "metadata": {},
   "outputs": [
    {
     "data": {
      "text/plain": [
       "array([0, 1], dtype=uint8)"
      ]
     },
     "execution_count": 17,
     "metadata": {},
     "output_type": "execute_result"
    },
    {
     "data": {
      "image/png": "[encoded data removed]",
      "text/plain": [
       "<Figure size 432x288 with 1 Axes>"
      ]
     },
     "metadata": {
      "needs_background": "light"
     },
     "output_type": "display_data"
    }
   ],
   "source": [
    "%autoreload\n",
    "\n",
    "# now translated image_geometry to the template coordinate\n",
    "\n",
    "transformed = translate_geometry(\n",
    "    image_geometry,\n",
    "    template_transform,\n",
    "    matching_result,\n",
    "    crop_idx,\n",
    ")\n",
    "\n",
    "(minx, miny, maxx, maxy) = transformed.bounds\n",
    "\n",
    "shape = (int(maxy - min(miny, 0) + 1), int(maxx - min(minx, 0) + 1))\n",
    "\n",
    "mask = rasterio.features.rasterize(\n",
    "    [transformed], out_shape=template_.shape[:2]\n",
    ")\n",
    "\n",
    "plt.imshow(mask)\n",
    "\n",
    "np.unique(mask.flatten())"
   ]
  },
  {
   "cell_type": "code",
   "execution_count": 18,
   "metadata": {},
   "outputs": [
    {
     "data": {
      "text/plain": [
       "<matplotlib.image.AxesImage at 0x7f85beeefe80>"
      ]
     },
     "execution_count": 18,
     "metadata": {},
     "output_type": "execute_result"
    },
    {
     "data": {
      "image/png": "[encoded data removed]",
      "text/plain": [
       "<Figure size 432x288 with 1 Axes>"
      ]
     },
     "metadata": {
      "needs_background": "light"
     },
     "output_type": "display_data"
    }
   ],
   "source": [
    "copy = template_.copy()\n",
    "copy[mask>0, 0] = 255\n",
    "plt.imshow(copy)"
   ]
  }
 ],
 "metadata": {
  "kernelspec": {
   "display_name": "msi-zarr-analysis",
   "language": "python",
   "name": "python3"
  },
  "language_info": {
   "codemirror_mode": {
    "name": "ipython",
    "version": 3
   },
   "file_extension": ".py",
   "mimetype": "text/x-python",
   "name": "python",
   "nbconvert_exporter": "python",
   "pygments_lexer": "ipython3",
   "version": "3.9.15 | packaged by conda-forge | (main, Nov 22 2022, 08:45:29) \n[GCC 10.4.0]"
  },
  "vscode": {
   "interpreter": {
    "hash": "b132494fc5832201db7bc548786628109cbbb4bb00a45c254f1dc0763e34f9a3"
   }
  }
 },
 "nbformat": 4,
 "nbformat_minor": 2
}
