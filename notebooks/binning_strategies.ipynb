{
 "cells": [
  {
   "cell_type": "code",
   "execution_count": 1,
   "metadata": {},
   "outputs": [],
   "source": [
    "\"studying different binning methods\"\n",
    "\n",
    "import matplotlib as mpl\n",
    "mpl.rcParams['figure.dpi'] = 120\n",
    "mpl.rcParams.update({'font.size': 12})\n",
    "\n",
    "import time\n",
    "\n",
    "import numpy as np\n",
    "import matplotlib.pyplot as plt\n",
    "import pandas as pd\n",
    "import zarr\n",
    "\n",
    "from msi_zarr_analysis.utils.autocrop import autocrop\n",
    "from msi_zarr_analysis.utils.iter_chunks import iter_loaded_chunks"
   ]
  },
  {
   "cell_type": "markdown",
   "metadata": {},
   "source": [
    "## Dataset"
   ]
  },
  {
   "cell_type": "code",
   "execution_count": 2,
   "metadata": {},
   "outputs": [],
   "source": [
    "r13 = zarr.open_group(\"../datasets/comulis13.zarr/\", mode='r')\n",
    "r14 = zarr.open_group(\"../datasets/comulis14.zarr/\", mode='r')\n",
    "r15 = zarr.open_group(\"../datasets/comulis15.zarr/\", mode='r')"
   ]
  },
  {
   "cell_type": "markdown",
   "metadata": {},
   "source": [
    "## Binning strategies"
   ]
  },
  {
   "cell_type": "markdown",
   "metadata": {},
   "source": [
    "### Uniform"
   ]
  },
  {
   "cell_type": "code",
   "execution_count": 3,
   "metadata": {},
   "outputs": [],
   "source": [
    "def binning_bounds_uniform(mz_lo: float, mz_hi: float, *, n_bins: int = None, bin_width: float = None):\n",
    "    \"\"\n",
    "    # param check\n",
    "    assert (n_bins is None) != (bin_width is None), \"exactly one of n_bins, bin_width should be specified\"\n",
    "\n",
    "    mz_lo, mz_hi = float(mz_lo), float(mz_hi)\n",
    "    \n",
    "    if n_bins is None:\n",
    "        bin_width = float(bin_width)\n",
    "        n_bins = np.round((mz_hi - mz_lo) / bin_width)\n",
    "    else:\n",
    "        n_bins = int(n_bins)\n",
    "        bin_width = (mz_hi - mz_lo) / n_bins\n",
    "\n",
    "    # linspace\n",
    "    bounds = np.linspace(mz_lo, mz_hi, num=n_bins+1)\n",
    "    \n",
    "    return bounds[:-1], bounds[1:]"
   ]
  },
  {
   "cell_type": "markdown",
   "metadata": {},
   "source": [
    "### Geometric (Geurts et al. 2005)\n",
    "https://doi.org/10.1093/bioinformatics/bti494"
   ]
  },
  {
   "cell_type": "code",
   "execution_count": 4,
   "metadata": {},
   "outputs": [],
   "source": [
    "def binning_bounds_geometric(mz_lo: float, mz_hi: float, *, n_bins: int = None, r: float = None):\n",
    "    # param check\n",
    "    assert (n_bins is None) != (r is None), \"exactly one of n_bins, r should be specified\"\n",
    "\n",
    "    mz_lo, mz_hi = float(mz_lo), float(mz_hi)\n",
    "    \n",
    "    append_mz_hi = False\n",
    "    if n_bins is None:\n",
    "        r = float(r)\n",
    "        n_bins = np.round((np.log(mz_hi) - np.log(mz_lo)) / np.log(1 + r))\n",
    "        print(f\"computed {n_bins=!r} (+/- 1)\")\n",
    "        \n",
    "        append_mz_hi = True\n",
    "    else:\n",
    "        n_bins = int(n_bins)\n",
    "        r = (mz_hi / mz_lo) ** (1/float(n_bins)) - 1.0\n",
    "        print(f\"computed {r=!r}\")\n",
    "    \n",
    "    # geometric space\n",
    "    bounds = mz_lo * (1 + r) ** np.arange(n_bins + 1)\n",
    "    \n",
    "    if append_mz_hi and bounds[-1] < mz_hi:\n",
    "        # n_bins += 1\n",
    "        bounds = np.concatenate((bounds, (mz_hi,)))\n",
    "    \n",
    "    return bounds[:-1], bounds[1:]"
   ]
  },
  {
   "cell_type": "markdown",
   "metadata": {},
   "source": [
    "### Estimated\n",
    "\n",
    "Doing an estimation based on a list of spectrum (possibly uneven)"
   ]
  },
  {
   "cell_type": "code",
   "execution_count": 5,
   "metadata": {},
   "outputs": [],
   "source": [
    "def binning_bounds_auto(\n",
    "    mz_lo: float,\n",
    "    mz_hi: float,\n",
    "    *spectra: \"tuple[np.ndarray, np.ndarray]\",\n",
    "    n_bins: int,\n",
    ") -> \"tuple[np.ndarray, np.ndarray]\":\n",
    "    # param check\n",
    "    n_bins = int(n_bins)\n",
    "    mz_lo, mz_hi = float(mz_lo), float(mz_hi)\n",
    "    \n",
    "    # NOTE this needs s_len >> n_bins to work well\n",
    "    # is there a valid method when s_len ~= n_bins or s_len < n_bins ?\n",
    "\n",
    "    # make sure it's not just an iterator\n",
    "    if not isinstance(spectra, (tuple, list, np.ndarray, set)):\n",
    "        spectra = list(spectra)\n",
    "\n",
    "    # estimation for the separation between the bins\n",
    "    estimation = np.zeros((len(spectra), n_bins - 1))\n",
    "\n",
    "    for idx, (s_mzs, s_int) in enumerate(spectra):\n",
    "        s_len = s_mzs.size\n",
    "        frac = np.arange(1, n_bins) / n_bins\n",
    "        steps = np.int64(np.round(frac * s_len))\n",
    "\n",
    "        estimation[idx, :] = s_mzs[steps]\n",
    "\n",
    "    bounds = np.concatenate(((mz_lo,), estimation.mean(axis=0), (mz_hi,)))\n",
    "\n",
    "    return bounds[:-1], bounds[1:]"
   ]
  },
  {
   "cell_type": "markdown",
   "metadata": {},
   "source": [
    "## Illustrations"
   ]
  },
  {
   "cell_type": "code",
   "execution_count": 6,
   "metadata": {},
   "outputs": [],
   "source": [
    "def get_mz_bounds(dataset: zarr.Group) -> \"tuple[float, float]\":\n",
    "    \"\"\n",
    "    \n",
    "    z_len = dataset[\"/labels/lengths/0\"]\n",
    "    z_mzs = dataset[\"/labels/mzs/0\"]\n",
    "    \n",
    "    n_len = z_len[0, 0]\n",
    "    bounds = autocrop(n_len)\n",
    "    \n",
    "    mzs_min, mzs_max = np.inf, -np.inf\n",
    "    \n",
    "    for cy, cx in iter_loaded_chunks(z_mzs, *bounds, skip=2):\n",
    "        c_len = n_len[cy, cx]\n",
    "        c_len_max = c_len.max()\n",
    "        c_mzs = z_mzs[:c_len_max, 0, cy, cx]\n",
    "        \n",
    "        for y, x in zip(*np.nonzero(c_len)):\n",
    "            s_len = c_len[y, x]\n",
    "            s_mzs = c_mzs[:s_len, y, x]\n",
    "\n",
    "            s_mzs_min = s_mzs.min()\n",
    "            if s_mzs_min < mzs_min:\n",
    "                mzs_min = s_mzs_min\n",
    "                if s_mzs_min == 0:\n",
    "                    print(f\"{cy=} {cx=} {y=} {x=} {s_len=}\")\n",
    "\n",
    "            s_mzs_max = s_mzs.max()\n",
    "            if s_mzs_max > mzs_max:\n",
    "                mzs_max = s_mzs_max\n",
    "    \n",
    "    return mzs_min, mzs_max"
   ]
  },
  {
   "cell_type": "code",
   "execution_count": 7,
   "metadata": {},
   "outputs": [
    {
     "data": {
      "text/plain": [
       "(100.31501007080078, 1149.9957275390625)"
      ]
     },
     "execution_count": 7,
     "metadata": {},
     "output_type": "execute_result"
    }
   ],
   "source": [
    "get_mz_bounds(r13)"
   ]
  },
  {
   "cell_type": "code",
   "execution_count": 8,
   "metadata": {},
   "outputs": [
    {
     "data": {
      "text/plain": [
       "(100.31501007080078, 1149.9957275390625)"
      ]
     },
     "execution_count": 8,
     "metadata": {},
     "output_type": "execute_result"
    }
   ],
   "source": [
    "get_mz_bounds(r14)"
   ]
  },
  {
   "cell_type": "code",
   "execution_count": 9,
   "metadata": {},
   "outputs": [
    {
     "data": {
      "text/plain": [
       "(100.31500244140625, 1150.0069580078125)"
      ]
     },
     "execution_count": 9,
     "metadata": {},
     "output_type": "execute_result"
    }
   ],
   "source": [
    "get_mz_bounds(r15)"
   ]
  },
  {
   "cell_type": "code",
   "execution_count": 10,
   "metadata": {},
   "outputs": [],
   "source": [
    "def get_random_spectra(dataset: zarr.Group, *, count: int):\n",
    "    \n",
    "    z_len = dataset[\"/labels/lengths/0\"]\n",
    "    z_mzs = dataset[\"/labels/mzs/0\"]\n",
    "    z_int = dataset[\"/0\"]\n",
    "    \n",
    "    # get valid indices\n",
    "    n_len = z_len[0, 0]\n",
    "    y_nz, x_nz = np.nonzero(n_len)\n",
    "    \n",
    "    # build dataframe\n",
    "    spectra = pd.DataFrame()\n",
    "    spectra = spectra.assign(y=y_nz, x=x_nz, length=n_len[y_nz, x_nz])\n",
    "    \n",
    "    # remove longest to avoid outliers in the COMULIS dataset\n",
    "    spectra.drop(spectra.length.argmax(), inplace=True)\n",
    "    \n",
    "    # randomly sample\n",
    "    spectra = spectra.sample(n=count)\n",
    "\n",
    "    # mask\n",
    "    mask = np.zeros_like(n_len)\n",
    "    mask[spectra.y, spectra.x] = 1\n",
    "\n",
    "    lst = []\n",
    "    \n",
    "    for cy, cx in iter_loaded_chunks(z_int, *autocrop(mask), skip=2):\n",
    "        c_len = n_len[cy, cx]\n",
    "        c_mask = mask[cy, cx]\n",
    "        \n",
    "        if c_mask.sum() == 0:\n",
    "            continue\n",
    "    \n",
    "        c_len_max = c_len.max()\n",
    "        c_mzs = z_mzs[:c_len_max, 0, cy, cx]\n",
    "        c_int = z_int[:c_len_max, 0, cy, cx]\n",
    "        for y, x in zip(*np.nonzero(c_mask)):\n",
    "            s_len = c_len[y, x]\n",
    "            lst.append((c_mzs[:s_len, y, x], c_int[:s_len, y, x]))\n",
    "\n",
    "    return lst"
   ]
  },
  {
   "cell_type": "code",
   "execution_count": 12,
   "metadata": {},
   "outputs": [],
   "source": [
    "def plot_bins(*bins: \"tuple[np.ndarray, np.ndarray]\", figsize):\n",
    "    fig, axes = plt.subplots(nrows=len(bins), ncols=1, squeeze=False, figsize=figsize, sharex=True)\n",
    "\n",
    "    for idx, (lo, hi) in enumerate(bins):\n",
    "        ax = axes[idx][0]\n",
    "        \n",
    "        ax.set_title(f\"Binning strategy #{idx+1}\")\n",
    "        \n",
    "        ax.vlines(np.concatenate((lo, hi[-1:])), 0.0, 1.0)\n",
    "    \n",
    "    fig.tight_layout()"
   ]
  },
  {
   "cell_type": "code",
   "execution_count": 13,
   "metadata": {},
   "outputs": [],
   "source": [
    "samples = get_random_spectra(r15, count=50)"
   ]
  },
  {
   "cell_type": "code",
   "execution_count": 17,
   "metadata": {},
   "outputs": [],
   "source": [
    "mz_lo, mz_hi = 100, 1050  # include r15 as well\n",
    "n_bins = 50"
   ]
  },
  {
   "cell_type": "code",
   "execution_count": 18,
   "metadata": {},
   "outputs": [
    {
     "name": "stdout",
     "output_type": "stream",
     "text": [
      "computed r=0.04815083822215227\n"
     ]
    },
    {
     "data": {
      "image/png": "[encoded data removed]",
      "text/plain": [
       "<Figure size 720x432 with 3 Axes>"
      ]
     },
     "metadata": {
      "needs_background": "light"
     },
     "output_type": "display_data"
    }
   ],
   "source": [
    "plot_bins(\n",
    "    binning_bounds_uniform(mz_lo, mz_hi, n_bins=n_bins),\n",
    "    binning_bounds_geometric(mz_lo, mz_hi, n_bins=n_bins),\n",
    "    binning_bounds_auto(mz_lo, mz_hi, *samples, n_bins=n_bins),\n",
    "    figsize=(10, 6)\n",
    ")"
   ]
  },
  {
   "cell_type": "code",
   "execution_count": 21,
   "metadata": {},
   "outputs": [],
   "source": [
    "bin_lo, bin_hi = binning_bounds_auto(mz_lo, mz_hi, *samples, n_bins=32768)\n",
    "np.savez(\"bins32768.npz\", bin_lo=bin_lo, bin_hi=bin_hi)"
   ]
  }
 ],
 "metadata": {
  "kernelspec": {
   "display_name": "msi-zarr-analysis",
   "language": "python",
   "name": "python3"
  },
  "language_info": {
   "codemirror_mode": {
    "name": "ipython",
    "version": 3
   },
   "file_extension": ".py",
   "mimetype": "text/x-python",
   "name": "python",
   "nbconvert_exporter": "python",
   "pygments_lexer": "ipython3",
   "version": "3.9.15 | packaged by conda-forge | (main, Nov 22 2022, 08:45:29) \n[GCC 10.4.0]"
  },
  "orig_nbformat": 4,
  "vscode": {
   "interpreter": {
    "hash": "b132494fc5832201db7bc548786628109cbbb4bb00a45c254f1dc0763e34f9a3"
   }
  }
 },
 "nbformat": 4,
 "nbformat_minor": 2
}
