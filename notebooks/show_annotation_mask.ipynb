{
 "cells": [
  {
   "cell_type": "code",
   "execution_count": 1,
   "id": "2960e685",
   "metadata": {},
   "outputs": [],
   "source": [
    "from typing import List, NamedTuple, Tuple, Union, Dict\n",
    "\n",
    "import matplotlib.pyplot as plt\n",
    "import numpy as np\n",
    "from matplotlib.colors import LinearSegmentedColormap\n",
    "from msi_zarr_analysis.ml.dataset.cytomine_ms_overlay import get_overlay_annotations\n",
    "from msi_zarr_analysis.ml.dataset.translate_annotation import (\n",
    "    TemplateTransform,\n",
    "    match_template_ms_overlay,\n",
    "    rasterize_annotation_mapping,\n",
    "    translate_parsed_annotation_mapping,\n",
    ")\n",
    "from msi_zarr_analysis.utils.check import open_group_ro\n",
    "from msi_zarr_analysis.utils.cytomine_utils import get_page_bin_indices\n",
    "\n",
    "from scripts.connect_from_json import connect\n",
    "\n",
    "\n",
    "class DSConfig(NamedTuple):\n",
    "    image_id_overlay: int  # Cytomine ID for the overlay image\n",
    "    local_overlay_path: str  # local path of the (downloaded) overlay\n",
    "    lipid_tm: str  # name of the lipid to base the template matching on\n",
    "\n",
    "    project_id: int  # project id\n",
    "    annotated_image_id: int  # image with the annotations\n",
    "\n",
    "    classes: Dict[str, List[int]]\n",
    "\n",
    "    save_image: Union[bool, str] = False\n",
    "\n",
    "    transform_rot90: int = 0\n",
    "    transform_flip_ud: bool = False\n",
    "    transform_flip_lr: bool = False\n",
    "\n",
    "    annotation_users_id: Tuple[int] = ()  # select these users only\n",
    "\n",
    "    zarr_template_path: str = None  # use another group for the template matching"
   ]
  },
  {
   "cell_type": "code",
   "execution_count": 2,
   "id": "5553eea2",
   "metadata": {},
   "outputs": [],
   "source": [
    "config = DSConfig(\n",
    "    **{\n",
    "        \"image_id_overlay\": 545025763,\n",
    "        \"local_overlay_path\": \"../datasets/Adjusted_Cytomine_MSI_3103_Region013-Viridis-stacked.ome.tif\",\n",
    "        \"lipid_tm\": \"LysoPPC\",\n",
    "        \"project_id\": 542576374,\n",
    "        \"annotated_image_id\": 545025783,\n",
    "        \"transform_rot90\": 1,\n",
    "        \"transform_flip_ud\": True,\n",
    "        \"transform_flip_lr\": False,\n",
    "        \"annotation_users_id\": (),\n",
    "        \"zarr_template_path\": \"../datasets/comulis13_binned.zarr\",\n",
    "    },\n",
    "    classes={  # both merged\n",
    "        #\"+\": [544926081, 544924846],\n",
    "        #\"-\": [544926097, 544926052],\n",
    "        \"LS\": [544926097, 544926081],\n",
    "        \"SC\": [544926052, 544924846],\n",
    "    },\n",
    ")\n",
    "\n",
    "template_transform = TemplateTransform(\n",
    "    rotate_90=config.transform_rot90,\n",
    "    flip_lr=config.transform_flip_lr,\n",
    "    flip_ud=config.transform_flip_ud,\n",
    ")\n",
    "\n",
    "lipid = \"LysoPPC\"\n",
    "lipid_df_path = \"../mz value + lipid name.csv\"\n",
    "\n",
    "group_binned = open_group_ro(config.zarr_template_path)"
   ]
  },
  {
   "cell_type": "code",
   "execution_count": 3,
   "id": "197ebc05",
   "metadata": {},
   "outputs": [
    {
     "name": "stdout",
     "output_type": "stream",
     "text": [
      "[2022-09-21 15:42:56,678][INFO] [GET] [currentuser] CURRENT USER - 534530561 : mamodei | 200 OK\n",
      "[2022-09-21 15:42:57,136][INFO] [GET] [sliceinstance collection] 12 objects | 200 OK\n",
      "[2022-09-21 15:42:57,646][INFO] [GET] [annotation collection] 396 objects | 200 OK\n",
      "[2022-09-21 15:42:57,771][INFO] [GET] [imageinstance] 545025763 : Adjusted Cytomine MSI 3103/Region013-Viridis-stacked.ome.tif | 200 OK\n",
      "[2022-09-21 15:42:57,947][INFO] [GET] [term collection] 35 objects | 200 OK\n"
     ]
    }
   ],
   "source": [
    "connect(\"../config_cytomine.json\")\n",
    "\n",
    "# template matching...\n",
    "page_idx, bin_idx, *_ = get_page_bin_indices(\n",
    "    image_id=config.image_id_overlay, lipid=lipid, csv_lipid_mz_path=lipid_df_path\n",
    ")\n",
    "\n",
    "annotation_dict = get_overlay_annotations(\n",
    "    project_id=config.project_id,\n",
    "    image_id=config.image_id_overlay,\n",
    "    classes=config.classes,\n",
    "    select_users=config.annotation_users_id,\n",
    ")"
   ]
  },
  {
   "cell_type": "code",
   "execution_count": 4,
   "id": "d36e0d10",
   "metadata": {},
   "outputs": [],
   "source": [
    "matching_result, crop_idx = match_template_ms_overlay(\n",
    "    group_binned,\n",
    "    bin_idx,\n",
    "    config.local_overlay_path,\n",
    "    page_idx,\n",
    "    template_transform,\n",
    ")"
   ]
  },
  {
   "cell_type": "code",
   "execution_count": 5,
   "id": "1db9ab02",
   "metadata": {},
   "outputs": [],
   "source": [
    "annotation_dict = translate_parsed_annotation_mapping(\n",
    "    annotation_dict,\n",
    "    template_transform,\n",
    "    matching_result,\n",
    "    crop_idx,\n",
    ")"
   ]
  },
  {
   "cell_type": "code",
   "execution_count": 15,
   "id": "9a3e6591",
   "metadata": {},
   "outputs": [],
   "source": [
    "# get base image\n",
    "img = group_binned[\"/0\"][bin_idx, 0]"
   ]
  },
  {
   "cell_type": "code",
   "execution_count": 16,
   "id": "b060690a",
   "metadata": {},
   "outputs": [],
   "source": [
    "# rasterize annotations\n",
    "full_shape = img.shape\n",
    "raster_dict = rasterize_annotation_mapping(\n",
    "    annotation_dict,\n",
    "    full_shape,\n",
    ")"
   ]
  },
  {
   "cell_type": "code",
   "execution_count": 17,
   "id": "fe7f6de3",
   "metadata": {},
   "outputs": [],
   "source": [
    "# preprocess img\n",
    "img = template_transform.transform_template(img)\n",
    "img[img == 0] = np.nan"
   ]
  },
  {
   "cell_type": "code",
   "execution_count": 18,
   "id": "3c3100bb",
   "metadata": {},
   "outputs": [
    {
     "name": "stdout",
     "output_type": "stream",
     "text": [
      "LS: tab:green\n",
      "SC: tab:red\n"
     ]
    },
    {
     "data": {
      "image/png": "[encoded data removed]",
      "text/plain": [
       "<Figure size 1500x1000 with 1 Axes>"
      ]
     },
     "metadata": {
      "needs_background": "light"
     },
     "output_type": "display_data"
    }
   ],
   "source": [
    "fig, ax = plt.subplots(dpi=250)\n",
    "\n",
    "# plot img\n",
    "ax.imshow(img, interpolation=\"nearest\", cmap=\"Wistia\")\n",
    "\n",
    "y_lo = img.shape[0]\n",
    "y_hi = 0\n",
    "x_lo = img.shape[1]\n",
    "x_hi = 0\n",
    "\n",
    "\n",
    "# plot annotations\n",
    "for color, (cls_label, annotation_lst) in zip(['tab:green', 'tab:red'], raster_dict.items()):\n",
    "    print(f\"{cls_label}: {color}\")\n",
    "    \n",
    "    min_val = min(a.raster.min() for a in annotation_lst) \n",
    "    max_val = max(a.raster.max() for a in annotation_lst)\n",
    "    \n",
    "    cmap = LinearSegmentedColormap.from_list(color, [\n",
    "        (min_val, \"#0000\"),\n",
    "        (max_val, color),\n",
    "    ])\n",
    "\n",
    "    for annotation in annotation_lst:\n",
    "        mask = template_transform.transform_template(annotation.raster)\n",
    "        \n",
    "        ys, xs = mask.nonzero()\n",
    "        y_lo = min(y_lo, ys.min())\n",
    "        y_hi = max(y_hi, ys.max())\n",
    "        x_lo = min(x_lo, xs.min())\n",
    "        x_hi = max(x_hi, xs.max())\n",
    "        \n",
    "        ax.imshow(mask, alpha=0.8, cmap=cmap)\n",
    "\n",
    "\n",
    "ax.set_xlim(left=x_lo-10, right=x_hi+10)\n",
    "ax.set_ylim(bottom=y_hi+10, top=y_lo-10)\n",
    "#ax.set_title(f\"Annotated MSI: Region 13 {lipid}, LS/SC\")\n",
    "ax.get_xaxis().set_visible(False)\n",
    "ax.get_yaxis().set_visible(False)\n",
    "\n",
    "fig.tight_layout()\n",
    "\n",
    "fig.savefig(\"region13_msi_LysoPPC_annotated_ls_sc.png\")"
   ]
  },
  {
   "cell_type": "code",
   "execution_count": 19,
   "id": "e25c6f1c",
   "metadata": {},
   "outputs": [
    {
     "name": "stdout",
     "output_type": "stream",
     "text": [
      "LS: tab:green\n",
      "SC: tab:red\n"
     ]
    },
    {
     "data": {
      "image/png": "[encoded data removed]",
      "text/plain": [
       "<Figure size 1500x1000 with 1 Axes>"
      ]
     },
     "metadata": {
      "needs_background": "light"
     },
     "output_type": "display_data"
    }
   ],
   "source": [
    "fig, ax = plt.subplots(dpi=250)\n",
    "\n",
    "# plot img\n",
    "ax.imshow(img, interpolation=\"nearest\", cmap=\"Wistia\")\n",
    "\n",
    "y_lo = img.shape[0]\n",
    "y_hi = 0\n",
    "x_lo = img.shape[1]\n",
    "x_hi = 0\n",
    "\n",
    "\n",
    "# plot annotations\n",
    "for color, (cls_label, annotation_lst) in zip(['tab:green', 'tab:red'], raster_dict.items()):\n",
    "    print(f\"{cls_label}: {color}\")\n",
    "    \n",
    "    min_val = min(a.raster.min() for a in annotation_lst) \n",
    "    max_val = max(a.raster.max() for a in annotation_lst)\n",
    "    \n",
    "    cmap = LinearSegmentedColormap.from_list(color, [\n",
    "        (min_val, \"#0000\"),\n",
    "        (max_val, color),\n",
    "    ])\n",
    "\n",
    "    for annotation in annotation_lst:\n",
    "        mask = template_transform.transform_template(annotation.raster)\n",
    "        \n",
    "        ys, xs = mask.nonzero()\n",
    "        y_lo = min(y_lo, ys.min())\n",
    "        y_hi = max(y_hi, ys.max())\n",
    "        x_lo = min(x_lo, xs.min())\n",
    "        x_hi = max(x_hi, xs.max())\n",
    "        \n",
    "        # ax.imshow(mask, alpha=0.8, cmap=cmap)\n",
    "\n",
    "\n",
    "ax.set_xlim(left=x_lo-10, right=x_hi+10)\n",
    "ax.set_ylim(bottom=y_hi+10, top=y_lo-10)\n",
    "#ax.set_title(f\"Annotated MSI: Region 13 {lipid}, LS/SC\")\n",
    "ax.get_xaxis().set_visible(False)\n",
    "ax.get_yaxis().set_visible(False)\n",
    "\n",
    "fig.tight_layout()\n",
    "\n",
    "fig.savefig(\"region13_msi_LysoPPC.png\")"
   ]
  },
  {
   "cell_type": "code",
   "execution_count": null,
   "id": "dbc685b8",
   "metadata": {},
   "outputs": [],
   "source": []
  }
 ],
 "metadata": {
  "kernelspec": {
   "display_name": "Python 3 (ipykernel)",
   "language": "python",
   "name": "python3"
  },
  "language_info": {
   "codemirror_mode": {
    "name": "ipython",
    "version": 3
   },
   "file_extension": ".py",
   "mimetype": "text/x-python",
   "name": "python",
   "nbconvert_exporter": "python",
   "pygments_lexer": "ipython3",
   "version": "3.8.12"
  }
 },
 "nbformat": 4,
 "nbformat_minor": 5
}
