{
 "cells": [
  {
   "cell_type": "code",
   "execution_count": 3,
   "id": "2960e685",
   "metadata": {},
   "outputs": [],
   "source": [
    "from typing import List, NamedTuple, Tuple, Union, Dict\n",
    "\n",
    "import cytomine\n",
    "import matplotlib.pyplot as plt\n",
    "import numpy as np\n",
    "import pandas as pd\n",
    "from matplotlib.colors import LinearSegmentedColormap\n",
    "from msi_zarr_analysis.ml.dataset.cytomine_ms_overlay import get_overlay_annotations\n",
    "from msi_zarr_analysis.ml.dataset.translate_annotation import (\n",
    "    TemplateTransform,\n",
    "    match_template_ms_overlay,\n",
    "    rasterize_annotation_mapping,\n",
    "    translate_parsed_annotation_mapping,\n",
    "    scale_image,\n",
    "    scale_annotation_mapping,\n",
    "    get_cytomine_geometry,\n",
    ")\n",
    "from msi_zarr_analysis.utils.check import open_group_ro\n",
    "from msi_zarr_analysis.utils.cytomine_utils import get_page_bin_indices\n",
    "from msi_zarr_analysis.utils.autocrop import autocrop\n",
    "\n",
    "import pathlib\n",
    "import PIL\n",
    "import shutil\n",
    "import tifffile\n",
    "\n",
    "from scripts.connect_from_json import connect, connect_with_params\n",
    "\n",
    "\n",
    "class DSConfig(NamedTuple):\n",
    "    image_id_overlay: int  # Cytomine ID for the overlay image\n",
    "    local_overlay_path: str  # local path of the (downloaded) overlay\n",
    "    lipid_tm: str  # name of the lipid to base the template matching on\n",
    "\n",
    "    project_id: int  # project id\n",
    "    annotated_image_id: int  # image with the annotations\n",
    "\n",
    "    classes: Dict[str, List[int]]\n",
    "\n",
    "    save_image: Union[bool, str] = False\n",
    "\n",
    "    transform_rot90: int = 0\n",
    "    transform_flip_ud: bool = False\n",
    "    transform_flip_lr: bool = False\n",
    "\n",
    "    annotation_users_id: Tuple[int] = ()  # select these users only\n",
    "\n",
    "    zarr_template_path: str = None  # use another group for the template matching"
   ]
  },
  {
   "cell_type": "code",
   "execution_count": 4,
   "id": "5553eea2",
   "metadata": {},
   "outputs": [],
   "source": [
    "config = DSConfig(\n",
    "    **{\n",
    "        \"image_id_overlay\": 545025763,\n",
    "        \"local_overlay_path\": \"../datasets/Adjusted_Cytomine_MSI_3103_Region013-Viridis-stacked.ome.tif\",\n",
    "        \"lipid_tm\": \"LysoPPC\",\n",
    "        \"project_id\": 542576374,\n",
    "        \"annotated_image_id\": 545025783,\n",
    "        \"transform_rot90\": 1,\n",
    "        \"transform_flip_ud\": True,\n",
    "        \"transform_flip_lr\": False,\n",
    "        \"annotation_users_id\": (),\n",
    "        \"zarr_template_path\": \"../datasets/comulis13_binned.zarr\",\n",
    "    },\n",
    "    classes={  # both merged\n",
    "        #\"+\": [544926081, 544924846],\n",
    "        #\"-\": [544926097, 544926052],\n",
    "        \"LS\": [544926097, 544926081],\n",
    "        \"SC\": [544926052, 544924846],\n",
    "    },\n",
    ")\n",
    "\n",
    "template_transform = TemplateTransform(\n",
    "    rotate_90=config.transform_rot90,\n",
    "    flip_lr=config.transform_flip_lr,\n",
    "    flip_ud=config.transform_flip_ud,\n",
    ")\n",
    "\n",
    "lipid = \"LysoPPC\"\n",
    "lipid_df_path = \"../mz value + lipid name.csv\"\n",
    "\n",
    "group_binned = open_group_ro(config.zarr_template_path)\n",
    "\n",
    "scale_factor = 5"
   ]
  },
  {
   "cell_type": "code",
   "execution_count": 5,
   "id": "91242d38",
   "metadata": {},
   "outputs": [
    {
     "data": {
      "text/plain": [
       "<matplotlib.image.AxesImage at 0x7f558c25bb80>"
      ]
     },
     "execution_count": 5,
     "metadata": {},
     "output_type": "execute_result"
    },
    {
     "data": {
      "image/png": "[encoded data removed]",
      "text/plain": [
       "<Figure size 432x288 with 1 Axes>"
      ]
     },
     "metadata": {
      "needs_background": "light"
     },
     "output_type": "display_data"
    }
   ],
   "source": [
    "z_len = group_binned[\"/labels/lengths/0\"]\n",
    "\n",
    "presence_mask = z_len[0, 0] > 0\n",
    "selection_tpl = autocrop(presence_mask)\n",
    "\n",
    "presence_mask = presence_mask[selection_tpl]\n",
    "\n",
    "plt.imshow(presence_mask)"
   ]
  },
  {
   "cell_type": "code",
   "execution_count": 6,
   "id": "88bfff22",
   "metadata": {},
   "outputs": [
    {
     "data": {
      "text/plain": [
       "(37, 53, 368)"
      ]
     },
     "execution_count": 6,
     "metadata": {},
     "output_type": "execute_result"
    }
   ],
   "source": [
    "lipids_planes = group_binned[\"/0\"][(slice(None), 0) + selection_tpl]\n",
    "#lipids_planes = group_binned[\"/0\"][:, 0]\n",
    "lipids_planes.shape # m/z Y X"
   ]
  },
  {
   "cell_type": "code",
   "execution_count": 7,
   "id": "4a23f916",
   "metadata": {},
   "outputs": [],
   "source": [
    "cmap = \"Wistia\" if False else \"viridis\""
   ]
  },
  {
   "cell_type": "code",
   "execution_count": 8,
   "id": "5ff63c32",
   "metadata": {},
   "outputs": [
    {
     "data": {
      "image/png": "[encoded data removed]",
      "text/plain": [
       "<Figure size 900x600 with 1 Axes>"
      ]
     },
     "metadata": {
      "needs_background": "light"
     },
     "output_type": "display_data"
    }
   ],
   "source": [
    "fig, ax = plt.subplots(dpi=150)\n",
    "img = lipids_planes[14]\n",
    "ax.imshow(np.where(presence_mask, img, np.nan), interpolation=\"nearest\", cmap=cmap)\n",
    "ax.get_xaxis().set_visible(False)\n",
    "ax.get_yaxis().set_visible(False)\n",
    "\n",
    "fig.tight_layout()"
   ]
  },
  {
   "cell_type": "code",
   "execution_count": 9,
   "id": "7c694d6f",
   "metadata": {},
   "outputs": [
    {
     "data": {
      "image/png": "[encoded data removed]",
      "text/plain": [
       "<Figure size 900x600 with 1 Axes>"
      ]
     },
     "metadata": {
      "needs_background": "light"
     },
     "output_type": "display_data"
    }
   ],
   "source": [
    "fig, ax = plt.subplots(dpi=150)\n",
    "img = lipids_planes.sum(axis=0)\n",
    "ax.imshow(np.where(presence_mask, img, np.nan), interpolation=\"nearest\", cmap=cmap)\n",
    "ax.get_xaxis().set_visible(False)\n",
    "ax.get_yaxis().set_visible(False)\n",
    "\n",
    "fig.tight_layout()"
   ]
  },
  {
   "cell_type": "code",
   "execution_count": null,
   "id": "fd84733d",
   "metadata": {},
   "outputs": [],
   "source": [
    "def save_as_stack_dir(dest: str, img: np.ndarray, cross_lipid_norm: bool):\n",
    "    \n",
    "    dest = pathlib.Path(dest)\n",
    "    if dest.exists():\n",
    "        shutil.rmtree(dest)\n",
    "    dest.mkdir()\n",
    "\n",
    "    img_max_val = img.max()\n",
    "    background = img == 0\n",
    "    \n",
    "    planes = []\n",
    "    for p in img:\n",
    "        if cross_lipid_norm:\n",
    "            p = p / img_max_val\n",
    "        else:\n",
    "            max_val = p.max()\n",
    "            if max_val != 0:\n",
    "                p = p / max_val\n",
    "        color_map = plt.cm.ScalarMappable(cmap=plt.cm.viridis)\n",
    "        planes.append(color_map.to_rgba(p, bytes=True, norm=False))\n",
    "        del color_map\n",
    "    \n",
    "    assert img[~np.isnan(img)].max() == 0 or max([p.max() for p in planes]) > 0, img[~np.isnan(img)].max()\n",
    "    \n",
    "    stem = dest.stem\n",
    "\n",
    "    for idx, p in enumerate(planes):\n",
    "        #p[background[idx], 3] = 0\n",
    "        p = p[..., :3]\n",
    "        \n",
    "        plane_path = dest / (stem + f\"_{idx}.tiff\")\n",
    "        with tifffile.TiffWriter(plane_path) as tiff_writer:\n",
    "            tiff_writer.write(p, photometric=\"RGB\")\n",
    "\n",
    "    return planes\n",
    "del save_as_stack_dir"
   ]
  },
  {
   "cell_type": "code",
   "execution_count": null,
   "id": "429e91f6",
   "metadata": {},
   "outputs": [],
   "source": [
    "#save_as_stack_dir(\"../region13-viridis-lipids-msi-inter-normalization.stack\", lipids_planes, cross_lipid_norm=True)\n",
    "#planes = save_as_stack_dir(\"../region13-viridis-lipids-msi-intra-normalization.stack\", lipids_planes, cross_lipid_norm=False)"
   ]
  },
  {
   "cell_type": "code",
   "execution_count": null,
   "id": "daecb53b",
   "metadata": {},
   "outputs": [],
   "source": [
    "def save_as_tiff(dest: str, img: np.ndarray, cross_lipid_norm: bool, scale_factor: int = None):\n",
    "    img_max_val = img.max()\n",
    "    background = ~presence_mask  # Y X\n",
    "    \n",
    "    suffix = \".ome.tiff\"\n",
    "    if dest[-len(suffix):] != suffix:\n",
    "        raise ValueError(\"invalid path\")\n",
    "    \n",
    "    planes = []\n",
    "    for p in img:\n",
    "        if cross_lipid_norm:\n",
    "            p = p / img_max_val\n",
    "        else:\n",
    "            max_val = p.max()\n",
    "            if max_val != 0:\n",
    "                p = p / max_val\n",
    "        color_map = plt.cm.ScalarMappable(cmap=plt.cm.viridis)\n",
    "        \n",
    "        p_rgba = color_map.to_rgba(p, bytes=True, norm=False)\n",
    "        p_rgb = PIL.Image.fromarray(p_rgba, mode='RGBA').convert('RGB')\n",
    "        p_rgb = np.array(p_rgb)\n",
    "        \n",
    "        p_rgb[background, :] = 0\n",
    "        \n",
    "        if scale_factor is not None:\n",
    "            p_rgb = scale_image(p_rgb, scale_factor)\n",
    "        \n",
    "        planes.append(p_rgb)\n",
    "        del color_map\n",
    "    \n",
    "    plane_np = np.stack(planes)  # Z Y X C\n",
    "    plane_np = np.transpose(plane_np, (0, 3, 1, 2))  # Z C Y X\n",
    "\n",
    "    with tifffile.TiffWriter(dest) as tiff_writer:\n",
    "        compression = None\n",
    "        # compression = \"zlib\"\n",
    "        # compression = 34933 # PNG, see tifffile.py/class _TIFF/IMAGE_COMPRESSIONS\n",
    "        # ZLIB AND PNG COMPRESSION ARE NOT SUPPORTED BY CYTOMINE\n",
    "        tiff_writer.write(plane_np, photometric=\"RGB\", metadata={'axes': 'ZCYX'}, compression=compression)\n",
    "    \n",
    "    return planes"
   ]
  },
  {
   "cell_type": "code",
   "execution_count": null,
   "id": "e706b462",
   "metadata": {},
   "outputs": [],
   "source": [
    "save_as_tiff(\n",
    "    \"../region13-viridis-lipids-msi-inter.ome.tiff\",\n",
    "    lipids_planes,\n",
    "    cross_lipid_norm=True,\n",
    "    scale_factor=scale_factor,\n",
    ");"
   ]
  },
  {
   "cell_type": "code",
   "execution_count": null,
   "id": "7d4d382f",
   "metadata": {},
   "outputs": [],
   "source": [
    "planes = save_as_tiff(\n",
    "    \"../region13-viridis-lipids-msi-intra.ome.tiff\",\n",
    "    lipids_planes,\n",
    "    cross_lipid_norm=False,\n",
    "    scale_factor=scale_factor,\n",
    ")"
   ]
  },
  {
   "cell_type": "code",
   "execution_count": null,
   "id": "31bb939e",
   "metadata": {},
   "outputs": [],
   "source": [
    "lipids_planes.shape, planes[0].shape"
   ]
  },
  {
   "cell_type": "code",
   "execution_count": 10,
   "id": "b3a07f4f",
   "metadata": {},
   "outputs": [
    {
     "name": "stdout",
     "output_type": "stream",
     "text": [
      "[2022-09-28 14:17:59,131][INFO] [GET] [currentuser] CURRENT USER - 534530561 : mamodei | 200 OK\n"
     ]
    },
    {
     "data": {
      "text/plain": [
       "<cytomine.cytomine.Cytomine at 0x7f558bbe2e80>"
      ]
     },
     "execution_count": 10,
     "metadata": {},
     "output_type": "execute_result"
    }
   ],
   "source": [
    "connect(\"../config_cytomine.json\")"
   ]
  },
  {
   "cell_type": "code",
   "execution_count": 11,
   "id": "197ebc05",
   "metadata": {},
   "outputs": [
    {
     "name": "stdout",
     "output_type": "stream",
     "text": [
      "[2022-09-28 14:18:00,463][INFO] [GET] [sliceinstance collection] 12 objects | 200 OK\n",
      "bin_idx=14\n"
     ]
    }
   ],
   "source": [
    "# template matching...\n",
    "page_idx, bin_idx, *_ = get_page_bin_indices(\n",
    "    image_id=config.image_id_overlay, lipid=lipid, csv_lipid_mz_path=lipid_df_path\n",
    ")\n",
    "print(f\"{bin_idx=}\")"
   ]
  },
  {
   "cell_type": "code",
   "execution_count": 12,
   "id": "fa628a88",
   "metadata": {},
   "outputs": [
    {
     "name": "stdout",
     "output_type": "stream",
     "text": [
      "[2022-09-28 14:18:03,640][INFO] [GET] [annotation collection] 396 objects | 200 OK\n",
      "[2022-09-28 14:18:03,711][INFO] [GET] [imageinstance] 545025763 : Adjusted Cytomine MSI 3103/Region013-Viridis-stacked.ome.tif | 200 OK\n",
      "[2022-09-28 14:18:03,825][INFO] [GET] [term collection] 35 objects | 200 OK\n"
     ]
    }
   ],
   "source": [
    "annotation_dict = get_overlay_annotations(\n",
    "    project_id=config.project_id,\n",
    "    image_id=config.image_id_overlay,\n",
    "    classes=config.classes,\n",
    "    select_users=config.annotation_users_id,\n",
    ")"
   ]
  },
  {
   "cell_type": "code",
   "execution_count": null,
   "id": "d36e0d10",
   "metadata": {},
   "outputs": [],
   "source": [
    "matching_result, crop_idx = match_template_ms_overlay(\n",
    "    group_binned,\n",
    "    bin_idx,\n",
    "    config.local_overlay_path,\n",
    "    page_idx,\n",
    "    template_transform,\n",
    ")"
   ]
  },
  {
   "cell_type": "code",
   "execution_count": null,
   "id": "1db9ab02",
   "metadata": {},
   "outputs": [],
   "source": [
    "annotation_dict = translate_parsed_annotation_mapping(\n",
    "    annotation_dict,\n",
    "    template_transform,\n",
    "    matching_result,\n",
    "    (\n",
    "        slice(crop_idx[0].start - selection_tpl[0].start, None),\n",
    "        slice(crop_idx[1].start - selection_tpl[1].start, None),\n",
    "    )\n",
    ")  # VICTORY : these are the good annotations"
   ]
  },
  {
   "cell_type": "code",
   "execution_count": null,
   "id": "5cb085a0",
   "metadata": {},
   "outputs": [],
   "source": [
    "\"\"\"\n",
    "annotation_dict = translate_parsed_annotation_mapping(\n",
    "    annotation_dict,\n",
    "    template_transform,\n",
    "    matching_result,\n",
    "    crop_idx,\n",
    ")\n",
    "\"\"\";"
   ]
  },
  {
   "cell_type": "code",
   "execution_count": null,
   "id": "702bbbab",
   "metadata": {},
   "outputs": [],
   "source": [
    "annotation_dict = scale_annotation_mapping(\n",
    "    annotation_dict,\n",
    "    scale_factor,\n",
    ")"
   ]
  },
  {
   "cell_type": "code",
   "execution_count": null,
   "id": "9a3e6591",
   "metadata": {},
   "outputs": [],
   "source": [
    "# get base image\n",
    "# img = group_binned[\"/0\"][bin_idx, 0]\n",
    "img = planes[28]"
   ]
  },
  {
   "cell_type": "code",
   "execution_count": null,
   "id": "b060690a",
   "metadata": {},
   "outputs": [],
   "source": [
    "# rasterize annotations\n",
    "full_shape = img.shape[:2]\n",
    "raster_dict = rasterize_annotation_mapping(\n",
    "    annotation_dict,\n",
    "    full_shape,\n",
    ")"
   ]
  },
  {
   "cell_type": "code",
   "execution_count": null,
   "id": "3c3100bb",
   "metadata": {},
   "outputs": [],
   "source": [
    "fig, ax = plt.subplots(dpi=150)\n",
    "\n",
    "#img = template_transform.transform_template(img)\n",
    "\n",
    "# plot img\n",
    "#img[img < 200] = np.nan\n",
    "#ax.imshow(img, interpolation=\"nearest\", cmap=\"Wistia\")\n",
    "ax.imshow(img, interpolation=\"nearest\")\n",
    "\n",
    "# plot annotations\n",
    "for color, (cls_label, annotation_lst) in zip(['tab:cyan', 'tab:purple'], raster_dict.items()):\n",
    "    print(f\"{cls_label}: {color}\")\n",
    "    \n",
    "    min_val = min(a.raster.min() for a in annotation_lst) \n",
    "    max_val = max(a.raster.max() for a in annotation_lst)\n",
    "    \n",
    "    cmap = LinearSegmentedColormap.from_list(color, [\n",
    "        (min_val, \"#0000\"),\n",
    "        (max_val, color),\n",
    "    ])\n",
    "\n",
    "    for annotation in annotation_lst:\n",
    "        #mask = template_transform.transform_template(annotation.raster)\n",
    "        mask = annotation.raster\n",
    "        ax.imshow(mask, alpha=0.8, cmap=cmap)\n",
    "\n",
    "#ax.set_title(f\"Annotated MSI: Region 13 {lipid}, LS/SC\")\n",
    "ax.get_xaxis().set_visible(False)\n",
    "ax.get_yaxis().set_visible(False)\n",
    "\n",
    "fig.tight_layout()\n",
    "\n",
    "fig.savefig(\"annotated_crop_hires.png\")"
   ]
  },
  {
   "cell_type": "code",
   "execution_count": null,
   "id": "4f268324",
   "metadata": {},
   "outputs": [],
   "source": [
    "raise Exception(\"cells below must be done manually\")"
   ]
  },
  {
   "cell_type": "code",
   "execution_count": null,
   "id": "e25c6f1c",
   "metadata": {},
   "outputs": [],
   "source": [
    "# unable to do it on the localhost server: just print all geometry as wkt\n",
    "\n",
    "geometry_lst = []\n",
    "\n",
    "for _, annotation_lst in annotation_dict.items():\n",
    "    for parsed_annotation in annotation_lst:\n",
    "        # annotation = parsed_annotation.annotation\n",
    "        geometry = parsed_annotation.geometry\n",
    "        geometry = get_cytomine_geometry(geometry, img.shape[0])\n",
    "        geometry_lst.append(geometry.wkt)"
   ]
  },
  {
   "cell_type": "code",
   "execution_count": null,
   "id": "0a434397",
   "metadata": {},
   "outputs": [],
   "source": [
    "print(f\"{geometry_lst=!r}\")"
   ]
  },
  {
   "cell_type": "code",
   "execution_count": 20,
   "id": "8959e206",
   "metadata": {},
   "outputs": [],
   "source": [
    "project_id = 542576374\n",
    "# image_id = 551298476\n",
    "abstract_id = 551298088\n",
    "#abstract_id = 551297671"
   ]
  },
  {
   "cell_type": "code",
   "execution_count": 21,
   "id": "6983538e",
   "metadata": {},
   "outputs": [
    {
     "name": "stdout",
     "output_type": "stream",
     "text": [
      "[2022-09-28 14:19:50,694][INFO] [GET] [abstractslice collection] 37 objects | 200 OK\n"
     ]
    }
   ],
   "source": [
    "slice_collection = cytomine.models.AbstractSliceCollection().fetch_with_filter(\"abstractimage\", abstract_id)"
   ]
  },
  {
   "cell_type": "code",
   "execution_count": null,
   "id": "355c1352",
   "metadata": {},
   "outputs": [],
   "source": [
    "#annotation_collection = cytomine.models.AnnotationCollection()"
   ]
  },
  {
   "cell_type": "code",
   "execution_count": null,
   "id": "02bcd3a8",
   "metadata": {},
   "outputs": [],
   "source": [
    "\"\"\"for _, annotation_lst in annotation_dict.items():\n",
    "    for parsed_annotation in annotation_lst:\n",
    "        annotation = parsed_annotation.annotation\n",
    "\n",
    "        geometry = parsed_annotation.geometry\n",
    "        geometry = get_cytomine_geometry(geometry, img.shape[0])\n",
    "        \n",
    "        for slice_itm in slice_collection:\n",
    "\n",
    "            tr_annotation = cytomine.models.Annotation(\n",
    "                location=geometry.wkt,\n",
    "                id_image=image_id,\n",
    "                id_project=project_id,\n",
    "                id_slice=slice_itm.id,\n",
    "                term=annotation.term\n",
    "            )\n",
    "            annotation_collection.append(tr_annotation)\n",
    "\"\"\";"
   ]
  },
  {
   "cell_type": "code",
   "execution_count": null,
   "id": "f8b33c7c",
   "metadata": {},
   "outputs": [],
   "source": [
    "#annotation_collection.save()"
   ]
  },
  {
   "cell_type": "code",
   "execution_count": 15,
   "id": "aa557b79",
   "metadata": {},
   "outputs": [],
   "source": [
    "lipids_df = pd.read_csv(lipid_df_path, sep=None, engine=\"python\")"
   ]
  },
  {
   "cell_type": "code",
   "execution_count": 16,
   "id": "734727ea",
   "metadata": {},
   "outputs": [
    {
     "data": {
      "text/html": [
       "<div>\n",
       "<style scoped>\n",
       "    .dataframe tbody tr th:only-of-type {\n",
       "        vertical-align: middle;\n",
       "    }\n",
       "\n",
       "    .dataframe tbody tr th {\n",
       "        vertical-align: top;\n",
       "    }\n",
       "\n",
       "    .dataframe thead th {\n",
       "        text-align: right;\n",
       "    }\n",
       "</style>\n",
       "<table border=\"1\" class=\"dataframe\">\n",
       "  <thead>\n",
       "    <tr style=\"text-align: right;\">\n",
       "      <th></th>\n",
       "      <th>m/z</th>\n",
       "      <th>Interval Width (+/- Da)</th>\n",
       "      <th>Name</th>\n",
       "      <th>Unnamed: 3</th>\n",
       "    </tr>\n",
       "  </thead>\n",
       "  <tbody>\n",
       "    <tr>\n",
       "      <th>0</th>\n",
       "      <td>205.19508</td>\n",
       "      <td>0.00045</td>\n",
       "      <td>X-X-x-farnesene</td>\n",
       "      <td>NaN</td>\n",
       "    </tr>\n",
       "    <tr>\n",
       "      <th>1</th>\n",
       "      <td>243.26824</td>\n",
       "      <td>0.00053</td>\n",
       "      <td>hexadecanol</td>\n",
       "      <td>NaN</td>\n",
       "    </tr>\n",
       "    <tr>\n",
       "      <th>2</th>\n",
       "      <td>285.27881</td>\n",
       "      <td>0.00062</td>\n",
       "      <td>hexcadecyl acetate</td>\n",
       "      <td>NaN</td>\n",
       "    </tr>\n",
       "    <tr>\n",
       "      <th>3</th>\n",
       "      <td>305.24751</td>\n",
       "      <td>0.00067</td>\n",
       "      <td>AA</td>\n",
       "      <td>NaN</td>\n",
       "    </tr>\n",
       "    <tr>\n",
       "      <th>4</th>\n",
       "      <td>317.21112</td>\n",
       "      <td>0.00069</td>\n",
       "      <td>15d PGJ2</td>\n",
       "      <td>NaN</td>\n",
       "    </tr>\n",
       "  </tbody>\n",
       "</table>\n",
       "</div>"
      ],
      "text/plain": [
       "         m/z  Interval Width (+/- Da)                Name  Unnamed: 3\n",
       "0  205.19508                  0.00045     X-X-x-farnesene         NaN\n",
       "1  243.26824                  0.00053         hexadecanol         NaN\n",
       "2  285.27881                  0.00062  hexcadecyl acetate         NaN\n",
       "3  305.24751                  0.00067                  AA         NaN\n",
       "4  317.21112                  0.00069            15d PGJ2         NaN"
      ]
     },
     "execution_count": 16,
     "metadata": {},
     "output_type": "execute_result"
    }
   ],
   "source": [
    "lipids_df.head()"
   ]
  },
  {
   "cell_type": "code",
   "execution_count": 17,
   "id": "0ce4da08",
   "metadata": {},
   "outputs": [
    {
     "data": {
      "text/plain": [
       "m/z                        305.24751\n",
       "Interval Width (+/- Da)      0.00067\n",
       "Name                              AA\n",
       "Unnamed: 3                       NaN\n",
       "Name: 3, dtype: object"
      ]
     },
     "execution_count": 17,
     "metadata": {},
     "output_type": "execute_result"
    }
   ],
   "source": [
    "lipids_df.iloc[3]"
   ]
  },
  {
   "cell_type": "code",
   "execution_count": 18,
   "id": "3064bbbc",
   "metadata": {},
   "outputs": [
    {
     "ename": "NameError",
     "evalue": "name 'image_id' is not defined",
     "output_type": "error",
     "traceback": [
      "\u001b[0;31m---------------------------------------------------------------------------\u001b[0m",
      "\u001b[0;31mNameError\u001b[0m                                 Traceback (most recent call last)",
      "Input \u001b[0;32mIn [18]\u001b[0m, in \u001b[0;36m<cell line: 1>\u001b[0;34m()\u001b[0m\n\u001b[0;32m----> 1\u001b[0m \u001b[43mimage_id\u001b[49m\n",
      "\u001b[0;31mNameError\u001b[0m: name 'image_id' is not defined"
     ]
    }
   ],
   "source": [
    "image_id"
   ]
  },
  {
   "cell_type": "code",
   "execution_count": null,
   "id": "4c7a9d4c",
   "metadata": {},
   "outputs": [],
   "source": [
    "#slice_collection = cytomine.models.SliceInstanceCollection().fetch_with_filter(\"imageinstance\", image_id)!"
   ]
  },
  {
   "cell_type": "code",
   "execution_count": 22,
   "id": "dda3918c",
   "metadata": {},
   "outputs": [
    {
     "name": "stdout",
     "output_type": "stream",
     "text": [
      "[2022-09-28 14:20:00,252][INFO] [PUT] [abstractslice] 551298094 : None | 200 OK\n",
      "[2022-09-28 14:20:00,358][INFO] [PUT] [abstractslice] 551298100 : None | 200 OK\n",
      "[2022-09-28 14:20:00,446][INFO] [PUT] [abstractslice] 551298106 : None | 200 OK\n",
      "[2022-09-28 14:20:00,532][INFO] [PUT] [abstractslice] 551298112 : None | 200 OK\n",
      "[2022-09-28 14:20:00,625][INFO] [PUT] [abstractslice] 551298118 : None | 200 OK\n",
      "[2022-09-28 14:20:00,717][INFO] [PUT] [abstractslice] 551298136 : None | 200 OK\n",
      "[2022-09-28 14:20:00,805][INFO] [PUT] [abstractslice] 551298156 : None | 200 OK\n",
      "[2022-09-28 14:20:00,894][INFO] [PUT] [abstractslice] 551298173 : None | 200 OK\n",
      "[2022-09-28 14:20:00,998][INFO] [PUT] [abstractslice] 551298196 : None | 200 OK\n",
      "[2022-09-28 14:20:01,109][INFO] [PUT] [abstractslice] 551298214 : None | 200 OK\n",
      "[2022-09-28 14:20:01,195][INFO] [PUT] [abstractslice] 551298232 : None | 200 OK\n",
      "[2022-09-28 14:20:01,290][INFO] [PUT] [abstractslice] 551298249 : None | 200 OK\n",
      "[2022-09-28 14:20:01,371][INFO] [PUT] [abstractslice] 551298262 : None | 200 OK\n",
      "[2022-09-28 14:20:01,468][INFO] [PUT] [abstractslice] 551298274 : None | 200 OK\n",
      "[2022-09-28 14:20:01,561][INFO] [PUT] [abstractslice] 551298281 : None | 200 OK\n",
      "[2022-09-28 14:20:01,661][INFO] [PUT] [abstractslice] 551298124 : None | 200 OK\n",
      "[2022-09-28 14:20:01,749][INFO] [PUT] [abstractslice] 551298137 : None | 200 OK\n",
      "[2022-09-28 14:20:01,836][INFO] [PUT] [abstractslice] 551298154 : None | 200 OK\n",
      "[2022-09-28 14:20:01,926][INFO] [PUT] [abstractslice] 551298172 : None | 200 OK\n",
      "[2022-09-28 14:20:02,029][INFO] [PUT] [abstractslice] 551298190 : None | 200 OK\n",
      "[2022-09-28 14:20:02,123][INFO] [PUT] [abstractslice] 551298207 : None | 200 OK\n",
      "[2022-09-28 14:20:02,210][INFO] [PUT] [abstractslice] 551298222 : None | 200 OK\n",
      "[2022-09-28 14:20:02,326][INFO] [PUT] [abstractslice] 551298241 : None | 200 OK\n",
      "[2022-09-28 14:20:02,441][INFO] [PUT] [abstractslice] 551298256 : None | 200 OK\n",
      "[2022-09-28 14:20:02,537][INFO] [PUT] [abstractslice] 551298268 : None | 200 OK\n",
      "[2022-09-28 14:20:02,629][INFO] [PUT] [abstractslice] 551298280 : None | 200 OK\n",
      "[2022-09-28 14:20:02,744][INFO] [PUT] [abstractslice] 551298292 : None | 200 OK\n",
      "[2022-09-28 14:20:02,839][INFO] [PUT] [abstractslice] 551298298 : None | 200 OK\n",
      "[2022-09-28 14:20:02,917][INFO] [PUT] [abstractslice] 551298304 : None | 200 OK\n",
      "[2022-09-28 14:20:02,999][INFO] [PUT] [abstractslice] 551298310 : None | 200 OK\n",
      "[2022-09-28 14:20:03,088][INFO] [PUT] [abstractslice] 551298130 : None | 200 OK\n",
      "[2022-09-28 14:20:03,177][INFO] [PUT] [abstractslice] 551298148 : None | 200 OK\n",
      "[2022-09-28 14:20:03,268][INFO] [PUT] [abstractslice] 551298165 : None | 200 OK\n",
      "[2022-09-28 14:20:03,362][INFO] [PUT] [abstractslice] 551298180 : None | 200 OK\n",
      "[2022-09-28 14:20:03,453][INFO] [PUT] [abstractslice] 551298202 : None | 200 OK\n",
      "[2022-09-28 14:20:03,563][INFO] [PUT] [abstractslice] 551298220 : None | 200 OK\n",
      "[2022-09-28 14:20:03,666][INFO] [PUT] [abstractslice] 551298238 : None | 200 OK\n"
     ]
    }
   ],
   "source": [
    "for slice_instance in slice_collection:\n",
    "    if slice_instance.zName is not None:\n",
    "        print(f\"skipping {slice_instance.zName=} {slice_instance.zStack=}\")\n",
    "        continue\n",
    "    slice_instance.zName = lipids_df.iloc[slice_instance.zStack].Name\n",
    "    slice_instance.update()"
   ]
  },
  {
   "cell_type": "code",
   "execution_count": null,
   "id": "682667bc",
   "metadata": {},
   "outputs": [],
   "source": []
  }
 ],
 "metadata": {
  "kernelspec": {
   "display_name": "Python 3 (ipykernel)",
   "language": "python",
   "name": "python3"
  },
  "language_info": {
   "codemirror_mode": {
    "name": "ipython",
    "version": 3
   },
   "file_extension": ".py",
   "mimetype": "text/x-python",
   "name": "python",
   "nbconvert_exporter": "python",
   "pygments_lexer": "ipython3",
   "version": "3.8.12"
  }
 },
 "nbformat": 4,
 "nbformat_minor": 5
}
