{
 "cells": [
  {
   "cell_type": "code",
   "execution_count": 1,
   "id": "2960e685",
   "metadata": {},
   "outputs": [],
   "source": [
    "from typing import List, NamedTuple, Tuple, Union, Dict\n",
    "\n",
    "import matplotlib.pyplot as plt\n",
    "import numpy as np\n",
    "from matplotlib.colors import LinearSegmentedColormap\n",
    "from msi_zarr_analysis.ml.dataset.cytomine_ms_overlay import get_overlay_annotations\n",
    "from msi_zarr_analysis.ml.dataset.translate_annotation import (\n",
    "    TemplateTransform,\n",
    "    match_template_ms_overlay,\n",
    "    rasterize_annotation_mapping,\n",
    "    translate_parsed_annotation_mapping,\n",
    ")\n",
    "from msi_zarr_analysis.utils.check import open_group_ro\n",
    "from msi_zarr_analysis.utils.cytomine_utils import get_page_bin_indices\n",
    "from msi_zarr_analysis.utils.autocrop import autocrop\n",
    "\n",
    "import tifffile\n",
    "import pathlib\n",
    "import shutil\n",
    "\n",
    "from scripts.connect_from_json import connect\n",
    "\n",
    "\n",
    "class DSConfig(NamedTuple):\n",
    "    image_id_overlay: int  # Cytomine ID for the overlay image\n",
    "    local_overlay_path: str  # local path of the (downloaded) overlay\n",
    "    lipid_tm: str  # name of the lipid to base the template matching on\n",
    "\n",
    "    project_id: int  # project id\n",
    "    annotated_image_id: int  # image with the annotations\n",
    "\n",
    "    classes: Dict[str, List[int]]\n",
    "\n",
    "    save_image: Union[bool, str] = False\n",
    "\n",
    "    transform_rot90: int = 0\n",
    "    transform_flip_ud: bool = False\n",
    "    transform_flip_lr: bool = False\n",
    "\n",
    "    annotation_users_id: Tuple[int] = ()  # select these users only\n",
    "\n",
    "    zarr_template_path: str = None  # use another group for the template matching"
   ]
  },
  {
   "cell_type": "code",
   "execution_count": 2,
   "id": "5553eea2",
   "metadata": {},
   "outputs": [],
   "source": [
    "config = DSConfig(\n",
    "    **{\n",
    "        \"image_id_overlay\": 545025763,\n",
    "        \"local_overlay_path\": \"../datasets/Adjusted_Cytomine_MSI_3103_Region013-Viridis-stacked.ome.tif\",\n",
    "        \"lipid_tm\": \"LysoPPC\",\n",
    "        \"project_id\": 542576374,\n",
    "        \"annotated_image_id\": 545025783,\n",
    "        \"transform_rot90\": 1,\n",
    "        \"transform_flip_ud\": True,\n",
    "        \"transform_flip_lr\": False,\n",
    "        \"annotation_users_id\": (),\n",
    "        \"zarr_template_path\": \"../datasets/comulis13_binned.zarr\",\n",
    "    },\n",
    "    classes={  # both merged\n",
    "        #\"+\": [544926081, 544924846],\n",
    "        #\"-\": [544926097, 544926052],\n",
    "        \"LS\": [544926097, 544926081],\n",
    "        \"SC\": [544926052, 544924846],\n",
    "    },\n",
    ")\n",
    "\n",
    "template_transform = TemplateTransform(\n",
    "    rotate_90=config.transform_rot90,\n",
    "    flip_lr=config.transform_flip_lr,\n",
    "    flip_ud=config.transform_flip_ud,\n",
    ")\n",
    "\n",
    "lipid = \"LysoPPC\"\n",
    "lipid_df_path = \"../mz value + lipid name.csv\"\n",
    "\n",
    "group_binned = open_group_ro(config.zarr_template_path)"
   ]
  },
  {
   "cell_type": "code",
   "execution_count": 3,
   "id": "91242d38",
   "metadata": {},
   "outputs": [
    {
     "data": {
      "text/plain": [
       "<matplotlib.image.AxesImage at 0x7ff11393c100>"
      ]
     },
     "execution_count": 3,
     "metadata": {},
     "output_type": "execute_result"
    },
    {
     "data": {
      "image/png": "[encoded data removed]",
      "text/plain": [
       "<Figure size 432x288 with 1 Axes>"
      ]
     },
     "metadata": {
      "needs_background": "light"
     },
     "output_type": "display_data"
    }
   ],
   "source": [
    "z_len = group_binned[\"/labels/lengths/0\"]\n",
    "presence_mask = z_len[0, 0] > 0\n",
    "\n",
    "selection_tpl = autocrop(presence_mask)\n",
    "plt.imshow(presence_mask[selection_tpl])"
   ]
  },
  {
   "cell_type": "code",
   "execution_count": 4,
   "id": "88bfff22",
   "metadata": {},
   "outputs": [
    {
     "data": {
      "text/plain": [
       "(37, 53, 368)"
      ]
     },
     "execution_count": 4,
     "metadata": {},
     "output_type": "execute_result"
    }
   ],
   "source": [
    "lipids_planes = group_binned[\"/0\"][(slice(None), 0) + selection_tpl]\n",
    "lipids_planes.shape # C H W"
   ]
  },
  {
   "cell_type": "code",
   "execution_count": 5,
   "id": "5ff63c32",
   "metadata": {},
   "outputs": [
    {
     "data": {
      "image/png": "[encoded data removed]",
      "text/plain": [
       "<Figure size 900x600 with 1 Axes>"
      ]
     },
     "metadata": {
      "needs_background": "light"
     },
     "output_type": "display_data"
    }
   ],
   "source": [
    "# colorization using below colormap\n",
    "fig, ax = plt.subplots(dpi=150)\n",
    "img = lipids_planes[14]\n",
    "ax.imshow(np.where(img == 0, np.nan, img), interpolation=\"nearest\", cmap=\"Wistia\")\n",
    "ax.get_xaxis().set_visible(False)\n",
    "ax.get_yaxis().set_visible(False)\n",
    "\n",
    "fig.tight_layout()"
   ]
  },
  {
   "cell_type": "code",
   "execution_count": 14,
   "id": "fd84733d",
   "metadata": {},
   "outputs": [],
   "source": [
    "# FIXME: dest should be a dir\n",
    "# then all planes should be saved with _{idx}.tiff suffix to form the stack\n",
    "# then the stack folders can be downloaded\n",
    "def save_as_tiff(dest: str, img: np.ndarray, cross_lipid_norm: bool):\n",
    "    \n",
    "    dest = pathlib.Path(dest)\n",
    "    if dest.exists():\n",
    "        shutil.rmtree(dest)\n",
    "    dest.mkdir()\n",
    "\n",
    "    img_max_val = img.max()\n",
    "    background = img == 0\n",
    "    \n",
    "    planes = []\n",
    "    for p in img:\n",
    "        if cross_lipid_norm:\n",
    "            p = p / img_max_val\n",
    "        else:\n",
    "            max_val = p.max()\n",
    "            if max_val != 0:\n",
    "                p = p / max_val\n",
    "        color_map = plt.cm.ScalarMappable(cmap=plt.cm.viridis)\n",
    "        planes.append(color_map.to_rgba(p, bytes=True, norm=False))\n",
    "        del color_map\n",
    "    \n",
    "    assert img[~np.isnan(img)].max() == 0 or max([p.max() for p in planes]) > 0, img[~np.isnan(img)].max()\n",
    "    \n",
    "    stem = dest.stem\n",
    "\n",
    "    for idx, p in enumerate(planes):\n",
    "        #p[background[idx], 3] = 0\n",
    "        p = p[..., :3]\n",
    "        \n",
    "        plane_path = dest / (stem + f\"_{idx}.tiff\")\n",
    "        with tifffile.TiffWriter(plane_path) as tiff_writer:\n",
    "            tiff_writer.write(p, photometric=\"RGB\")\n",
    "\n",
    "    return planes"
   ]
  },
  {
   "cell_type": "code",
   "execution_count": 15,
   "id": "6ba43735",
   "metadata": {},
   "outputs": [],
   "source": [
    "save_as_tiff(\"../region13-viridis-lipids-msi-inter-normalization.stack\", lipids_planes, cross_lipid_norm=True)\n",
    "planes = save_as_tiff(\"../region13-viridis-lipids-msi-intra-normalization.stack\", lipids_planes, cross_lipid_norm=False)"
   ]
  },
  {
   "cell_type": "code",
   "execution_count": null,
   "id": "197ebc05",
   "metadata": {},
   "outputs": [],
   "source": [
    "connect(\"../config_cytomine.json\")\n",
    "\n",
    "# template matching...\n",
    "page_idx, bin_idx, *_ = get_page_bin_indices(\n",
    "    image_id=config.image_id_overlay, lipid=lipid, csv_lipid_mz_path=lipid_df_path\n",
    ")\n",
    "\n",
    "annotation_dict = get_overlay_annotations(\n",
    "    project_id=config.project_id,\n",
    "    image_id=config.image_id_overlay,\n",
    "    classes=config.classes,\n",
    "    select_users=config.annotation_users_id,\n",
    ")"
   ]
  },
  {
   "cell_type": "code",
   "execution_count": null,
   "id": "a5ccc5d4",
   "metadata": {},
   "outputs": [],
   "source": [
    "print(bin_idx)"
   ]
  },
  {
   "cell_type": "code",
   "execution_count": null,
   "id": "d36e0d10",
   "metadata": {},
   "outputs": [],
   "source": [
    "matching_result, crop_idx = match_template_ms_overlay(\n",
    "    group_binned,\n",
    "    bin_idx,\n",
    "    config.local_overlay_path,\n",
    "    page_idx,\n",
    "    template_transform,\n",
    ")"
   ]
  },
  {
   "cell_type": "code",
   "execution_count": null,
   "id": "1db9ab02",
   "metadata": {},
   "outputs": [],
   "source": [
    "annotation_dict = translate_parsed_annotation_mapping(\n",
    "    annotation_dict,\n",
    "    template_transform,\n",
    "    matching_result,\n",
    "    (\n",
    "        slice(crop_idx[0].start - selection_tpl[0].start, None),\n",
    "        slice(crop_idx[1].start - selection_tpl[1].start, None),\n",
    "    )\n",
    ")  # VICTORY : these are the good annotations"
   ]
  },
  {
   "cell_type": "code",
   "execution_count": null,
   "id": "9a3e6591",
   "metadata": {},
   "outputs": [],
   "source": [
    "# get base image\n",
    "# img = group_binned[\"/0\"][bin_idx, 0]\n",
    "img = planes[28]"
   ]
  },
  {
   "cell_type": "code",
   "execution_count": null,
   "id": "b060690a",
   "metadata": {},
   "outputs": [],
   "source": [
    "# rasterize annotations\n",
    "full_shape = img.shape[:2]\n",
    "raster_dict = rasterize_annotation_mapping(\n",
    "    annotation_dict,\n",
    "    full_shape,\n",
    ")"
   ]
  },
  {
   "cell_type": "code",
   "execution_count": null,
   "id": "3c3100bb",
   "metadata": {},
   "outputs": [],
   "source": [
    "fig, ax = plt.subplots(dpi=150)\n",
    "\n",
    "#img = template_transform.transform_template(img)\n",
    "\n",
    "# plot img\n",
    "#img[img < 200] = np.nan\n",
    "#ax.imshow(img, interpolation=\"nearest\", cmap=\"Wistia\")\n",
    "ax.imshow(img, interpolation=\"nearest\")\n",
    "\n",
    "# plot annotations\n",
    "for color, (cls_label, annotation_lst) in zip(['tab:cyan', 'tab:purple'], raster_dict.items()):\n",
    "    print(f\"{cls_label}: {color}\")\n",
    "    \n",
    "    min_val = min(a.raster.min() for a in annotation_lst) \n",
    "    max_val = max(a.raster.max() for a in annotation_lst)\n",
    "    \n",
    "    cmap = LinearSegmentedColormap.from_list(color, [\n",
    "        (min_val, \"#0000\"),\n",
    "        (max_val, color),\n",
    "    ])\n",
    "\n",
    "    for annotation in annotation_lst:\n",
    "        #mask = template_transform.transform_template(annotation.raster)\n",
    "        mask = annotation.raster\n",
    "        ax.imshow(mask, alpha=0.8, cmap=cmap)\n",
    "\n",
    "#ax.set_title(f\"Annotated MSI: Region 13 {lipid}, LS/SC\")\n",
    "ax.get_xaxis().set_visible(False)\n",
    "ax.get_yaxis().set_visible(False)\n",
    "\n",
    "fig.tight_layout()\n",
    "\n",
    "#fig.savefig(\"annotated_crop.png\")"
   ]
  },
  {
   "cell_type": "code",
   "execution_count": null,
   "id": "e25c6f1c",
   "metadata": {},
   "outputs": [],
   "source": [
    "# get the image ID of Cytomine"
   ]
  }
 ],
 "metadata": {
  "kernelspec": {
   "display_name": "Python 3 (ipykernel)",
   "language": "python",
   "name": "python3"
  },
  "language_info": {
   "codemirror_mode": {
    "name": "ipython",
    "version": 3
   },
   "file_extension": ".py",
   "mimetype": "text/x-python",
   "name": "python",
   "nbconvert_exporter": "python",
   "pygments_lexer": "ipython3",
   "version": "3.8.12"
  }
 },
 "nbformat": 4,
 "nbformat_minor": 5
}
